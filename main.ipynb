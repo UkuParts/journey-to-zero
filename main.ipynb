{
 "cells": [
  {
   "cell_type": "code",
   "execution_count": 2,
   "id": "dead0d8d",
   "metadata": {},
   "outputs": [],
   "source": [
    "import pandas as pd\n",
    "import numpy as np"
   ]
  },
  {
   "cell_type": "code",
   "execution_count": 3,
   "id": "f52f2e2e",
   "metadata": {},
   "outputs": [
    {
     "data": {
      "text/html": [
       "<div>\n",
       "<style scoped>\n",
       "    .dataframe tbody tr th:only-of-type {\n",
       "        vertical-align: middle;\n",
       "    }\n",
       "\n",
       "    .dataframe tbody tr th {\n",
       "        vertical-align: top;\n",
       "    }\n",
       "\n",
       "    .dataframe thead th {\n",
       "        text-align: right;\n",
       "    }\n",
       "</style>\n",
       "<table border=\"1\" class=\"dataframe\">\n",
       "  <thead>\n",
       "    <tr style=\"text-align: right;\">\n",
       "      <th></th>\n",
       "      <th>time</th>\n",
       "      <th>temp</th>\n",
       "      <th>dwpt</th>\n",
       "      <th>rhum</th>\n",
       "      <th>wdir</th>\n",
       "      <th>wspd</th>\n",
       "      <th>wpgt</th>\n",
       "      <th>pres</th>\n",
       "      <th>coco</th>\n",
       "      <th>el_price</th>\n",
       "      <th>consumption</th>\n",
       "    </tr>\n",
       "  </thead>\n",
       "  <tbody>\n",
       "    <tr>\n",
       "      <th>0</th>\n",
       "      <td>0</td>\n",
       "      <td>11.2</td>\n",
       "      <td>10.3</td>\n",
       "      <td>94.0</td>\n",
       "      <td>320.0</td>\n",
       "      <td>7.2</td>\n",
       "      <td>16.7</td>\n",
       "      <td>1012.6</td>\n",
       "      <td>2.0</td>\n",
       "      <td>0.09016</td>\n",
       "      <td>0.577</td>\n",
       "    </tr>\n",
       "    <tr>\n",
       "      <th>1</th>\n",
       "      <td>1</td>\n",
       "      <td>10.7</td>\n",
       "      <td>9.6</td>\n",
       "      <td>93.0</td>\n",
       "      <td>320.0</td>\n",
       "      <td>7.2</td>\n",
       "      <td>13.0</td>\n",
       "      <td>1012.6</td>\n",
       "      <td>2.0</td>\n",
       "      <td>0.09251</td>\n",
       "      <td>0.594</td>\n",
       "    </tr>\n",
       "    <tr>\n",
       "      <th>2</th>\n",
       "      <td>2</td>\n",
       "      <td>9.9</td>\n",
       "      <td>9.0</td>\n",
       "      <td>94.0</td>\n",
       "      <td>320.0</td>\n",
       "      <td>7.2</td>\n",
       "      <td>13.0</td>\n",
       "      <td>1012.2</td>\n",
       "      <td>2.0</td>\n",
       "      <td>0.08890</td>\n",
       "      <td>0.685</td>\n",
       "    </tr>\n",
       "    <tr>\n",
       "      <th>3</th>\n",
       "      <td>3</td>\n",
       "      <td>10.0</td>\n",
       "      <td>8.4</td>\n",
       "      <td>90.0</td>\n",
       "      <td>330.0</td>\n",
       "      <td>7.2</td>\n",
       "      <td>13.0</td>\n",
       "      <td>1011.9</td>\n",
       "      <td>1.0</td>\n",
       "      <td>0.08735</td>\n",
       "      <td>1.016</td>\n",
       "    </tr>\n",
       "    <tr>\n",
       "      <th>4</th>\n",
       "      <td>4</td>\n",
       "      <td>9.0</td>\n",
       "      <td>8.1</td>\n",
       "      <td>94.0</td>\n",
       "      <td>300.0</td>\n",
       "      <td>3.6</td>\n",
       "      <td>13.0</td>\n",
       "      <td>1011.4</td>\n",
       "      <td>2.0</td>\n",
       "      <td>0.08688</td>\n",
       "      <td>0.677</td>\n",
       "    </tr>\n",
       "  </tbody>\n",
       "</table>\n",
       "</div>"
      ],
      "text/plain": [
       "  time  temp  dwpt  rhum   wdir  wspd  wpgt    pres  coco  el_price  \\\n",
       "0    0  11.2  10.3  94.0  320.0   7.2  16.7  1012.6   2.0   0.09016   \n",
       "1    1  10.7   9.6  93.0  320.0   7.2  13.0  1012.6   2.0   0.09251   \n",
       "2    2   9.9   9.0  94.0  320.0   7.2  13.0  1012.2   2.0   0.08890   \n",
       "3    3  10.0   8.4  90.0  330.0   7.2  13.0  1011.9   1.0   0.08735   \n",
       "4    4   9.0   8.1  94.0  300.0   3.6  13.0  1011.4   2.0   0.08688   \n",
       "\n",
       "   consumption  \n",
       "0        0.577  \n",
       "1        0.594  \n",
       "2        0.685  \n",
       "3        1.016  \n",
       "4        0.677  "
      ]
     },
     "execution_count": 3,
     "metadata": {},
     "output_type": "execute_result"
    }
   ],
   "source": [
    "data = pd.read_csv(\"train.csv\")\n",
    "data.at[1444, \"consumption\"] = (data.iloc[1443].consumption + data.iloc[1445].consumption) / 2\n",
    "data.at[4972, \"consumption\"] = (data.iloc[4971].consumption + data.iloc[4973].consumption) / 2\n",
    "data = data.drop(\"prcp\", axis=1) # removed because of the many na fields\n",
    "data = data.drop(\"snow\", axis=1) # removed ecause of the many na fields\n",
    "#data = data.drop(\"coco\", axis=1) # would really rather not do this\n",
    "data.coco = data.coco.fillna(1) # but this is worse, somehow\n",
    "\n",
    "# removing these makes the model better, for some reason\n",
    "#data = data.drop(\"dwpt\", axis=1)\n",
    "#data = data.drop(\"rhum\", axis=1)\n",
    "#data = data.drop(\"wdir\", axis=1)\n",
    "#data = data.drop(\"wspd\", axis=1)\n",
    "#data = data.drop(\"wpgt\", axis=1)\n",
    "#data = data.drop(\"pres\", axis=1)\n",
    "#data = data.drop(\"el_price\", axis=1)\n",
    "\n",
    "for index, row in data.iterrows():\n",
    "    data.at[index, \"time\"] = int(row.time[11] + row.time[12])\n",
    "\n",
    "data.head()"
   ]
  },
  {
   "cell_type": "code",
   "execution_count": 4,
   "id": "17d2f232",
   "metadata": {},
   "outputs": [],
   "source": [
    "X = data.loc[:, data.columns != \"consumption\"]\n",
    "y = data.consumption\n",
    "\n",
    "X_train = X.iloc[:8400]\n",
    "X_test = X.iloc[8400:]\n",
    "y_train = y.iloc[:8400]\n",
    "y_test = y.iloc[8400:]"
   ]
  },
  {
   "cell_type": "code",
   "execution_count": 28,
   "id": "e475a066",
   "metadata": {},
   "outputs": [
    {
     "data": {
      "text/plain": [
       "0.3489442480662233"
      ]
     },
     "execution_count": 28,
     "metadata": {},
     "output_type": "execute_result"
    }
   ],
   "source": [
    "from sklearn.ensemble import VotingRegressor\n",
    "from sklearn.ensemble import GradientBoostingRegressor\n",
    "from sklearn.ensemble import ExtraTreesRegressor\n",
    "from sklearn.metrics import mean_absolute_error\n",
    "\n",
    "gbr = GradientBoostingRegressor(loss=\"absolute_error\", n_estimators=100)\n",
    "etr = ExtraTreesRegressor(criterion=\"absolute_error\", n_estimators=100)\n",
    "model = VotingRegressor([('gbr', gbr), ('etr', etr)])\n",
    "model.fit(X_train, y_train)\n",
    "mean_absolute_error(y_test, model.predict(X_test))"
   ]
  },
  {
   "cell_type": "code",
   "execution_count": 6,
   "id": "a9027575",
   "metadata": {},
   "outputs": [
    {
     "data": {
      "text/plain": [
       "'submission_data = pd.read_csv(\"test.csv\")\\nsubmission_time = submission_data.time\\n\\nsubmission_data = submission_data.drop(\"prcp\", axis=1)\\nsubmission_data = submission_data.drop(\"snow\", axis=1)\\nsubmission_data = submission_data.drop(\"coco\", axis=1)\\nsubmission_data = submission_data.drop(\"dwpt\", axis=1)\\nsubmission_data = submission_data.drop(\"rhum\", axis=1)\\nsubmission_data = submission_data.drop(\"wdir\", axis=1)\\nsubmission_data = submission_data.drop(\"wspd\", axis=1)\\nsubmission_data = submission_data.drop(\"wpgt\", axis=1)\\nsubmission_data = submission_data.drop(\"pres\", axis=1)\\nsubmission_data = submission_data.drop(\"el_price\", axis=1)\\n\\nfor index, row in submission_data.iterrows():\\n    submission_data.at[index, \"time\"] = int(row.time[11] + row.time[12])\\n\\npd.DataFrame(np.dstack((submission_time, model.predict(submission_data)))[0], columns=[\"time\", \"consumption\"]).to_csv(\"submission0.csv\", index=False)\\n'"
      ]
     },
     "execution_count": 6,
     "metadata": {},
     "output_type": "execute_result"
    }
   ],
   "source": [
    "\"\"\"submission_data = pd.read_csv(\"test.csv\")\n",
    "submission_time = submission_data.time\n",
    "\n",
    "submission_data = submission_data.drop(\"prcp\", axis=1)\n",
    "submission_data = submission_data.drop(\"snow\", axis=1)\n",
    "submission_data = submission_data.drop(\"coco\", axis=1)\n",
    "submission_data = submission_data.drop(\"dwpt\", axis=1)\n",
    "submission_data = submission_data.drop(\"rhum\", axis=1)\n",
    "submission_data = submission_data.drop(\"wdir\", axis=1)\n",
    "submission_data = submission_data.drop(\"wspd\", axis=1)\n",
    "submission_data = submission_data.drop(\"wpgt\", axis=1)\n",
    "submission_data = submission_data.drop(\"pres\", axis=1)\n",
    "submission_data = submission_data.drop(\"el_price\", axis=1)\n",
    "\n",
    "for index, row in submission_data.iterrows():\n",
    "    submission_data.at[index, \"time\"] = int(row.time[11] + row.time[12])\n",
    "\n",
    "pd.DataFrame(np.dstack((submission_time, model.predict(submission_data)))[0], columns=[\"time\", \"consumption\"]).to_csv(\"submission0.csv\", index=False)\n",
    "\"\"\""
   ]
  },
  {
   "cell_type": "code",
   "execution_count": null,
   "id": "68709a4f",
   "metadata": {},
   "outputs": [],
   "source": []
  }
 ],
 "metadata": {
  "kernelspec": {
   "display_name": "Python 3 (ipykernel)",
   "language": "python",
   "name": "python3"
  },
  "language_info": {
   "codemirror_mode": {
    "name": "ipython",
    "version": 3
   },
   "file_extension": ".py",
   "mimetype": "text/x-python",
   "name": "python",
   "nbconvert_exporter": "python",
   "pygments_lexer": "ipython3",
   "version": "3.9.12"
  }
 },
 "nbformat": 4,
 "nbformat_minor": 5
}
